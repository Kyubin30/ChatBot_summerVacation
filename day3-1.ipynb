{
 "cells": [
  {
   "cell_type": "code",
   "execution_count": 1,
   "id": "ace74960",
   "metadata": {},
   "outputs": [],
   "source": [
    "import warnings\n",
    "warnings.filterwarnings('ignore')"
   ]
  },
  {
   "cell_type": "code",
   "execution_count": 2,
   "id": "ccf2848c",
   "metadata": {},
   "outputs": [],
   "source": [
    "#타이타닉 호 승객 생존 예측 프로젝트\n",
    "import numpy as np\n",
    "import pandas as pd\n",
    "import matplotlib.pyplot as plt\n",
    "import seaborn as sns\n",
    "from sklearn.model_selection import train_test_split\n",
    "\n",
    "df = pd.read_csv(\"titanic_processedData.csv\")"
   ]
  },
  {
   "cell_type": "code",
   "execution_count": 3,
   "id": "5c4a849d",
   "metadata": {},
   "outputs": [
    {
     "data": {
      "text/plain": [
       "array([[  1.    ,   1.    ,  29.    ,   0.    ,   0.    , 211.3375],\n",
       "       [  1.    ,   0.    ,   0.9167,   1.    ,   2.    , 151.55  ],\n",
       "       [  1.    ,   1.    ,   2.    ,   1.    ,   2.    , 151.55  ],\n",
       "       ...,\n",
       "       [  3.    ,   0.    ,  26.5   ,   0.    ,   0.    ,   7.225 ],\n",
       "       [  3.    ,   0.    ,  27.    ,   0.    ,   0.    ,   7.225 ],\n",
       "       [  3.    ,   0.    ,  29.    ,   0.    ,   0.    ,   7.875 ]])"
      ]
     },
     "execution_count": 3,
     "metadata": {},
     "output_type": "execute_result"
    }
   ],
   "source": [
    "#데이터 X와 정답 y\n",
    "#X [선실등급, 성별, 나이, 부부형제 수, 부모자식 수, 운임]\n",
    "x_cols = ['pclass', 'sex', 'age', 'sibsp', 'parch', 'fare']\n",
    "X = df[x_cols].values\n",
    "X"
   ]
  },
  {
   "cell_type": "code",
   "execution_count": 4,
   "id": "020cf7a8",
   "metadata": {},
   "outputs": [
    {
     "data": {
      "text/plain": [
       "array([1, 1, 0, ..., 0, 0, 0])"
      ]
     },
     "execution_count": 4,
     "metadata": {},
     "output_type": "execute_result"
    }
   ],
   "source": [
    "# y\n",
    "y = df['survived'].values\n",
    "y\n",
    "\n",
    "#데이터 전처리 완료"
   ]
  },
  {
   "cell_type": "markdown",
   "id": "ef0b3c5f",
   "metadata": {},
   "source": [
    "### ML 코딩 5단계\n",
    "#### 1. 훈련 데이터와 테스트 데이터 준비\n",
    "#### 2. ML 알고리즘 선택\n",
    "#### 3. 훈련 (under fitting, over fitting 조심)\n",
    "#### 4. 평가\n",
    "#### 5. 새 데이터로 예측"
   ]
  },
  {
   "cell_type": "code",
   "execution_count": 5,
   "id": "81692ccc",
   "metadata": {},
   "outputs": [
    {
     "data": {
      "text/plain": [
       "array([[ 2.    ,  0.    , 27.    ,  0.    ,  0.    , 13.    ],\n",
       "       [ 1.    ,  0.    , 36.    ,  0.    ,  0.    , 26.3875],\n",
       "       [ 3.    ,  1.    , 22.    ,  3.    ,  1.    , 25.4667],\n",
       "       ...,\n",
       "       [ 1.    ,  0.    , 33.    ,  0.    ,  0.    , 52.    ],\n",
       "       [ 1.    ,  1.    , 37.    ,  1.    ,  0.    , 51.8625],\n",
       "       [ 2.    ,  0.    , 28.    ,  0.    ,  0.    , 26.    ]])"
      ]
     },
     "execution_count": 5,
     "metadata": {},
     "output_type": "execute_result"
    }
   ],
   "source": [
    "X_train, X_test, y_train, y_test = train_test_split(X, y, test_size=0.1, random_state=13)\n",
    "X_train"
   ]
  },
  {
   "cell_type": "code",
   "execution_count": null,
   "id": "a6b8c75b",
   "metadata": {},
   "outputs": [],
   "source": []
  }
 ],
 "metadata": {
  "kernelspec": {
   "display_name": "Python 3 (ipykernel)",
   "language": "python",
   "name": "python3"
  },
  "language_info": {
   "codemirror_mode": {
    "name": "ipython",
    "version": 3
   },
   "file_extension": ".py",
   "mimetype": "text/x-python",
   "name": "python",
   "nbconvert_exporter": "python",
   "pygments_lexer": "ipython3",
   "version": "3.9.12"
  }
 },
 "nbformat": 4,
 "nbformat_minor": 5
}
