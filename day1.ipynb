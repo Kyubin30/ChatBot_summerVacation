{
 "cells": [
  {
   "cell_type": "code",
   "execution_count": 1,
   "id": "b2e69446",
   "metadata": {},
   "outputs": [
    {
     "data": {
      "text/plain": [
       "[1, 2, 3, 4, 5]"
      ]
     },
     "execution_count": 1,
     "metadata": {},
     "output_type": "execute_result"
    }
   ],
   "source": [
    "#리스트\n",
    "l = [1,2,3,4,5]\n",
    "l"
   ]
  },
  {
   "cell_type": "code",
   "execution_count": 2,
   "id": "01b5e899",
   "metadata": {},
   "outputs": [
    {
     "data": {
      "text/plain": [
       "(1, 2, 3)"
      ]
     },
     "execution_count": 2,
     "metadata": {},
     "output_type": "execute_result"
    }
   ],
   "source": [
    "#튜플\n",
    "t = (1,2,3)\n",
    "t"
   ]
  },
  {
   "cell_type": "code",
   "execution_count": 3,
   "id": "2dd8ce0e",
   "metadata": {},
   "outputs": [
    {
     "data": {
      "text/plain": [
       "{'name': 'ABC', 'age': 22, 'number': '01012344321'}"
      ]
     },
     "execution_count": 3,
     "metadata": {},
     "output_type": "execute_result"
    }
   ],
   "source": [
    "#딕셔너리\n",
    "d = {\n",
    "    'name' : 'ABC',\n",
    "    'age' : 22,\n",
    "    'number' : '01012344321'\n",
    "}\n",
    "\n",
    "d"
   ]
  },
  {
   "cell_type": "code",
   "execution_count": 4,
   "id": "375817c6",
   "metadata": {},
   "outputs": [
    {
     "data": {
      "text/plain": [
       "{1, 2, 3, 4, 5, 6, 7}"
      ]
     },
     "execution_count": 4,
     "metadata": {},
     "output_type": "execute_result"
    }
   ],
   "source": [
    "#셋\n",
    "s = set((1,2,3,4,5,3,4,6,7))\n",
    "s"
   ]
  },
  {
   "cell_type": "code",
   "execution_count": 5,
   "id": "26202dbd",
   "metadata": {},
   "outputs": [
    {
     "name": "stdout",
     "output_type": "stream",
     "text": [
      "F\n"
     ]
    }
   ],
   "source": [
    "#if문\n",
    "score = 60\n",
    "if score >= 91:\n",
    "    print('A')\n",
    "elif score >= 81:\n",
    "    print('B')\n",
    "elif score >= 71:\n",
    "    print('C')\n",
    "elif score >= 61:\n",
    "    print('D')\n",
    "else:\n",
    "    print('F')"
   ]
  },
  {
   "cell_type": "code",
   "execution_count": 6,
   "id": "3cef706a",
   "metadata": {},
   "outputs": [
    {
     "data": {
      "text/plain": [
       "5050"
      ]
     },
     "execution_count": 6,
     "metadata": {},
     "output_type": "execute_result"
    }
   ],
   "source": [
    "#반복문\n",
    "intsum = 0\n",
    "i = 0\n",
    "while i <= 100:\n",
    "    intsum += i\n",
    "    i += 1\n",
    "intsum"
   ]
  },
  {
   "cell_type": "code",
   "execution_count": 7,
   "id": "95090b67",
   "metadata": {},
   "outputs": [
    {
     "data": {
      "text/plain": [
       "5050"
      ]
     },
     "execution_count": 7,
     "metadata": {},
     "output_type": "execute_result"
    }
   ],
   "source": [
    "#반복문\n",
    "intsum = 0\n",
    "i = 0\n",
    "for i in range(1, 101):\n",
    "    intsum += i\n",
    "    i += 1\n",
    "intsum"
   ]
  },
  {
   "cell_type": "code",
   "execution_count": 8,
   "id": "aaeb7c7f",
   "metadata": {},
   "outputs": [
    {
     "name": "stdout",
     "output_type": "stream",
     "text": [
      "[5, 14, 24, 26, 32, 39]\n",
      "[3, 7, 11, 20, 37, 38]\n",
      "[10, 14, 18, 23, 29, 31]\n",
      "[1, 11, 15, 21, 24, 33]\n",
      "[2, 11, 17, 19, 27, 44]\n"
     ]
    }
   ],
   "source": [
    "import random\n",
    "i = 0\n",
    "while i < 5:\n",
    "    lotto = sorted(random.sample(range(1,46), 6))\n",
    "    if sum(lotto) >= 100 and sum(lotto) <= 170:\n",
    "        print(lotto)\n",
    "        i += 1"
   ]
  },
  {
   "cell_type": "code",
   "execution_count": null,
   "id": "9df30fe7",
   "metadata": {},
   "outputs": [],
   "source": [
    "#스크래핑 (몇 페이지): beautifulSoap / 크롤링(수 많은 페이지)\n",
    "#로또 사이트 스크래핑\n",
    "url = \"https://dhlottery.co.kr/gameResult.do?method=byWin\"\n",
    "from bs4 import BeautifulSoap"
   ]
  }
 ],
 "metadata": {
  "kernelspec": {
   "display_name": "Python 3 (ipykernel)",
   "language": "python",
   "name": "python3"
  },
  "language_info": {
   "codemirror_mode": {
    "name": "ipython",
    "version": 3
   },
   "file_extension": ".py",
   "mimetype": "text/x-python",
   "name": "python",
   "nbconvert_exporter": "python",
   "pygments_lexer": "ipython3",
   "version": "3.9.12"
  }
 },
 "nbformat": 4,
 "nbformat_minor": 5
}
